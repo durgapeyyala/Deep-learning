{
 "cells": [
  {
   "cell_type": "markdown",
   "id": "bafb0f9a",
   "metadata": {},
   "source": [
    "# Task :- \n",
    "\n",
    "### 1) Create a MCP based neuron with the help of (Functions  or Class) \n",
    "\n",
    "-- Here your activation function should be and,or and your inputs can be in n-dimensional\n",
    "\n",
    "--Your function should work for both and as well as for or\n",
    "\n"
   ]
  },
  {
   "cell_type": "code",
   "execution_count": 1,
   "id": "3758b9d6",
   "metadata": {},
   "outputs": [
    {
     "name": "stdout",
     "output_type": "stream",
     "text": [
      "AND Output: 0\n",
      "OR Output: 1\n"
     ]
    }
   ],
   "source": [
    "def mcp_neuron_and(inputs):\n",
    "    # Logical AND function\n",
    "    for input_value in inputs:\n",
    "        if input_value == 0:\n",
    "            return 0\n",
    "    return 1\n",
    "\n",
    "def mcp_neuron_or(inputs):\n",
    "    # Logical OR function\n",
    "    for input_value in inputs:\n",
    "        if input_value == 1:\n",
    "            return 1\n",
    "    return 0\n",
    "\n",
    "# Example usage\n",
    "inputs_and = [1, 1, 0]  # Input values for AND operation\n",
    "output_and = mcp_neuron_and(inputs_and)\n",
    "print(\"AND Output:\", output_and)\n",
    "\n",
    "inputs_or = [0, 1, 0]  # Input values for OR operation\n",
    "output_or = mcp_neuron_or(inputs_or)\n",
    "print(\"OR Output:\", output_or)\n"
   ]
  },
  {
   "cell_type": "code",
   "execution_count": null,
   "id": "f4049e4d",
   "metadata": {},
   "outputs": [],
   "source": []
  }
 ],
 "metadata": {
  "kernelspec": {
   "display_name": "Python 3 (ipykernel)",
   "language": "python",
   "name": "python3"
  },
  "language_info": {
   "codemirror_mode": {
    "name": "ipython",
    "version": 3
   },
   "file_extension": ".py",
   "mimetype": "text/x-python",
   "name": "python",
   "nbconvert_exporter": "python",
   "pygments_lexer": "ipython3",
   "version": "3.9.13"
  }
 },
 "nbformat": 4,
 "nbformat_minor": 5
}
